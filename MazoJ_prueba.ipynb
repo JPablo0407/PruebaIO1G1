{
  "nbformat": 4,
  "nbformat_minor": 0,
  "metadata": {
    "colab": {
      "provenance": [],
      "toc_visible": true,
      "authorship_tag": "ABX9TyM89e6moDqMurW77ozYHeqp",
      "include_colab_link": true
    },
    "kernelspec": {
      "name": "python3",
      "display_name": "Python 3"
    },
    "language_info": {
      "name": "python"
    }
  },
  "cells": [
    {
      "cell_type": "markdown",
      "metadata": {
        "id": "view-in-github",
        "colab_type": "text"
      },
      "source": [
        "<a href=\"https://colab.research.google.com/github/JPablo0407/PruebaIO1G1/blob/main/MazoJ_prueba.ipynb\" target=\"_parent\"><img src=\"https://colab.research.google.com/assets/colab-badge.svg\" alt=\"Open In Colab\"/></a>"
      ]
    },
    {
      "cell_type": "markdown",
      "source": [
        "#EJERCICIO NUEVO\n"
      ],
      "metadata": {
        "id": "vTLUV-xufd-W"
      }
    },
    {
      "cell_type": "markdown",
      "source": [
        "YA SOY PROGRAMADOOOOOOOOOOOOOOOOOOOOOOOOOOOOOOOOOOOR!!!!!!!!!!!!!!!!!"
      ],
      "metadata": {
        "id": "OBOoLoy0fFZg"
      }
    },
    {
      "cell_type": "markdown",
      "source": [
        "#PRIMER EJEMPLO\n"
      ],
      "metadata": {
        "id": "avZIfSQSfrg-"
      }
    },
    {
      "cell_type": "code",
      "execution_count": 12,
      "metadata": {
        "colab": {
          "base_uri": "https://localhost:8080/"
        },
        "id": "ZDXWARtXcMOb",
        "outputId": "1721d615-6dde-45e7-d218-72c70a9c036c"
      },
      "outputs": [
        {
          "output_type": "stream",
          "name": "stdout",
          "text": [
            "Haces el examen final\n"
          ]
        }
      ],
      "source": [
        "calificacion1=4\n",
        "calificacion2=3.99999\n",
        "calificacion3=5\n",
        "\n",
        "if calificacion1>=4 and calificacion2>=4 and calificacion3>=4:\n",
        "  print(\"no haces el examen final\")\n",
        "else:\n",
        "  print(\"Haces el examen final\")"
      ]
    },
    {
      "cell_type": "markdown",
      "source": [
        "HOLAAAAAAAAAAAAAAAAAAAAAAAAAAAAAAAAA"
      ],
      "metadata": {
        "id": "QWp_zdnXcM13"
      }
    },
    {
      "cell_type": "markdown",
      "source": [
        "# SEGUNDO EJERCICIO\n",
        "\n",
        "> Bloc con sangría\n",
        "\n"
      ],
      "metadata": {
        "id": "qWigDrYCmMJ1"
      }
    },
    {
      "cell_type": "code",
      "source": [
        "print(\"noooooooooooooooooooooooo\")"
      ],
      "metadata": {
        "id": "uodUfqESmIRv"
      },
      "execution_count": null,
      "outputs": []
    }
  ]
}